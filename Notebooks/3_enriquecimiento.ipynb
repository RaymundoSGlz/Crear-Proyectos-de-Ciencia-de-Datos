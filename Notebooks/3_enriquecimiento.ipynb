{
 "cells": [
  {
   "cell_type": "code",
   "execution_count": 1,
   "metadata": {},
   "outputs": [],
   "source": [
    "# Cargamos las librerías necesarias\n",
    "%matplotlib inline\n",
    "import pandas as pd"
   ]
  },
  {
   "cell_type": "code",
   "execution_count": 2,
   "metadata": {},
   "outputs": [],
   "source": [
    "# cargamos los datos\n",
    "gastos_df = pd.read_csv(\"../Data/gastos_abril_2023.csv\")"
   ]
  },
  {
   "attachments": {},
   "cell_type": "markdown",
   "metadata": {},
   "source": [
    "## Expansión de datos, fecha"
   ]
  },
  {
   "cell_type": "code",
   "execution_count": 3,
   "metadata": {},
   "outputs": [],
   "source": [
    "# convertimos la columna FECHA a formato fecha\n",
    "gastos_df['FECHA'] = pd.to_datetime(gastos_df['FECHA'])"
   ]
  },
  {
   "cell_type": "code",
   "execution_count": 4,
   "metadata": {},
   "outputs": [],
   "source": [
    "# Creamos las columnas de día, mes y año\n",
    "gastos_df['DIA'] = gastos_df['FECHA'].dt.day\n",
    "gastos_df['MES'] = gastos_df['FECHA'].dt.month\n",
    "gastos_df['AÑO'] = gastos_df['FECHA'].dt.year"
   ]
  },
  {
   "attachments": {},
   "cell_type": "markdown",
   "metadata": {},
   "source": [
    "## Proyección entre variables"
   ]
  },
  {
   "cell_type": "code",
   "execution_count": 5,
   "metadata": {},
   "outputs": [],
   "source": [
    "# Definimos beneficiario_sales como un diccionario con el número de gastos por beneficiario\n",
    "beneficiario_sales = gastos_df['BENEFICIARIO'].value_counts().to_dict()"
   ]
  },
  {
   "cell_type": "code",
   "execution_count": 6,
   "metadata": {},
   "outputs": [],
   "source": [
    "# Aplicamos beneficiario_sales a la columna BENEFICIARIO para crear la columna BENEFICIARIO_SALES\n",
    "gastos_df['BENEFICIARIO_SALES'] = gastos_df['BENEFICIARIO'].map(beneficiario_sales)"
   ]
  },
  {
   "cell_type": "code",
   "execution_count": 8,
   "metadata": {},
   "outputs": [],
   "source": [
    "# Creamos un diccionario con el importe promedio por hoja\n",
    "sheet_mean_gastos = gastos_df.groupby('SHEET')['IMPORTE'].mean().to_dict()"
   ]
  },
  {
   "cell_type": "code",
   "execution_count": 9,
   "metadata": {},
   "outputs": [],
   "source": [
    "# Aplicamos sheet_mean_gastos a la columna SHEET para crear la columna SHEET_MEAN_GASTOS\n",
    "gastos_df['IMPORTE_GASTO_PROMEDIO'] = gastos_df['SHEET'].map(sheet_mean_gastos)"
   ]
  },
  {
   "cell_type": "code",
   "execution_count": 10,
   "metadata": {},
   "outputs": [],
   "source": [
    "# Exportamos el dataframe a un archivo csv\n",
    "gastos_df.to_csv(\"../Data/gastos_abril_2023_enriquecido.csv\", index=False)"
   ]
  }
 ],
 "metadata": {
  "kernelspec": {
   "display_name": "Python 3",
   "language": "python",
   "name": "python3"
  },
  "language_info": {
   "codemirror_mode": {
    "name": "ipython",
    "version": 3
   },
   "file_extension": ".py",
   "mimetype": "text/x-python",
   "name": "python",
   "nbconvert_exporter": "python",
   "pygments_lexer": "ipython3",
   "version": "3.11.3"
  },
  "orig_nbformat": 4
 },
 "nbformat": 4,
 "nbformat_minor": 2
}
