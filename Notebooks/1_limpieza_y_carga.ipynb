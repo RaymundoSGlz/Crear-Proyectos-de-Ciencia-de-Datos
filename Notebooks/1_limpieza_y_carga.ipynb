{
 "cells": [
  {
   "cell_type": "code",
   "execution_count": 1,
   "metadata": {},
   "outputs": [],
   "source": [
    "# Importamos las librerías necesarias\n",
    "import pandas as pd"
   ]
  },
  {
   "cell_type": "code",
   "execution_count": 2,
   "metadata": {},
   "outputs": [],
   "source": [
    "# Creamos una función que crea un dataframe para cada hoja de un excel\n",
    "def create_df(file, sheet, rows):\n",
    "    df=pd.read_excel(file, sheet_name=sheet, skiprows=rows)\n",
    "    df['SHEET']=sheet\n",
    "    return df"
   ]
  },
  {
   "cell_type": "code",
   "execution_count": 3,
   "metadata": {},
   "outputs": [],
   "source": [
    "df_gastos_varios = create_df('../Data/Abril_2023.xlsx', 'GTS VARIOS', 5)\n",
    "df_obra_publica_y_fdos = create_df('../Data/Abril_2023.xlsx', 'OBRA PUBLICA Y GV FDOS. ESP', 5)\n",
    "df_serv_profesionales = create_df('../Data/Abril_2023.xlsx', 'SERV PROF', 5)\n",
    "df_comunicacion = create_df('../Data/Abril_2023.xlsx', 'COMUNIC', 5)\n",
    "df_representacion = create_df('../Data/Abril_2023.xlsx', 'GTS REPRE', 5)\n",
    "df_personales = create_df('../Data/Abril_2023.xlsx', 'SERV PERS', 5)"
   ]
  },
  {
   "cell_type": "code",
   "execution_count": 4,
   "metadata": {},
   "outputs": [],
   "source": [
    "# Juntamos todos los dataframes en uno solo\n",
    "df_gastos = pd.concat([df_gastos_varios, df_obra_publica_y_fdos, df_serv_profesionales, df_comunicacion, df_representacion, df_personales])"
   ]
  },
  {
   "cell_type": "code",
   "execution_count": 5,
   "metadata": {},
   "outputs": [
    {
     "data": {
      "text/html": [
       "<div>\n",
       "<style scoped>\n",
       "    .dataframe tbody tr th:only-of-type {\n",
       "        vertical-align: middle;\n",
       "    }\n",
       "\n",
       "    .dataframe tbody tr th {\n",
       "        vertical-align: top;\n",
       "    }\n",
       "\n",
       "    .dataframe thead th {\n",
       "        text-align: right;\n",
       "    }\n",
       "</style>\n",
       "<table border=\"1\" class=\"dataframe\">\n",
       "  <thead>\n",
       "    <tr style=\"text-align: right;\">\n",
       "      <th></th>\n",
       "      <th>C B</th>\n",
       "      <th>BENEFICIARIO</th>\n",
       "      <th>RFC</th>\n",
       "      <th>FACTURAS</th>\n",
       "      <th>CONTRATO</th>\n",
       "      <th>CONCEPTO</th>\n",
       "      <th>TIPO</th>\n",
       "      <th>FDO - #OP</th>\n",
       "      <th>FECHA</th>\n",
       "      <th>IMPORTE</th>\n",
       "      <th>SHEET</th>\n",
       "    </tr>\n",
       "  </thead>\n",
       "  <tbody>\n",
       "    <tr>\n",
       "      <th>0</th>\n",
       "      <td>111017</td>\n",
       "      <td>PRAXAIR MEXICO S. DE R.L. DE C.V.</td>\n",
       "      <td>PME960701GG0</td>\n",
       "      <td>FB1350335-183011-629</td>\n",
       "      <td>SFA-057-2022</td>\n",
       "      <td>SUMINISTRO DE OXIGENO, GASES MEDICINALES Y ACC...</td>\n",
       "      <td>TR</td>\n",
       "      <td>1025821.0</td>\n",
       "      <td>2023-04-05</td>\n",
       "      <td>1054.76</td>\n",
       "      <td>GTS VARIOS</td>\n",
       "    </tr>\n",
       "    <tr>\n",
       "      <th>1</th>\n",
       "      <td>111017</td>\n",
       "      <td>PRAXAIR MEXICO S. DE R.L. DE C.V.</td>\n",
       "      <td>PME960701GG0</td>\n",
       "      <td>FZ5209887-183011-623</td>\n",
       "      <td>SFA-057-2022</td>\n",
       "      <td>SUMINISTRO DE OXIGENO, GASES MEDICINALES Y ACC...</td>\n",
       "      <td>TR</td>\n",
       "      <td>1025821.0</td>\n",
       "      <td>2023-04-05</td>\n",
       "      <td>16090.79</td>\n",
       "      <td>GTS VARIOS</td>\n",
       "    </tr>\n",
       "    <tr>\n",
       "      <th>2</th>\n",
       "      <td>111017</td>\n",
       "      <td>PRAXAIR MEXICO S. DE R.L. DE C.V.</td>\n",
       "      <td>PME960701GG0</td>\n",
       "      <td>FZ5211984-183011-621</td>\n",
       "      <td>SFA-057-2022</td>\n",
       "      <td>SUMINISTRO DE OXIGENO, GASES MEDICINALES Y ACC...</td>\n",
       "      <td>TR</td>\n",
       "      <td>1025821.0</td>\n",
       "      <td>2023-04-05</td>\n",
       "      <td>190872.18</td>\n",
       "      <td>GTS VARIOS</td>\n",
       "    </tr>\n",
       "    <tr>\n",
       "      <th>3</th>\n",
       "      <td>111017</td>\n",
       "      <td>PRAXAIR MEXICO S. DE R.L. DE C.V.</td>\n",
       "      <td>PME960701GG0</td>\n",
       "      <td>FZ5211985-183011-622</td>\n",
       "      <td>SFA-057-2022</td>\n",
       "      <td>SUMINISTRO DE OXIGENO, GASES MEDICINALES Y ACC...</td>\n",
       "      <td>TR</td>\n",
       "      <td>1025821.0</td>\n",
       "      <td>2023-04-05</td>\n",
       "      <td>174102.14</td>\n",
       "      <td>GTS VARIOS</td>\n",
       "    </tr>\n",
       "    <tr>\n",
       "      <th>4</th>\n",
       "      <td>111017</td>\n",
       "      <td>PRAXAIR MEXICO S. DE R.L. DE C.V.</td>\n",
       "      <td>PME960701GG0</td>\n",
       "      <td>FB1366036-183011-739</td>\n",
       "      <td>SFA-057-2022</td>\n",
       "      <td>SUMINISTRO DE OXIGENO, GASES MEDICINALES Y ACC...</td>\n",
       "      <td>TR</td>\n",
       "      <td>1025926.0</td>\n",
       "      <td>2023-04-21</td>\n",
       "      <td>1054.76</td>\n",
       "      <td>GTS VARIOS</td>\n",
       "    </tr>\n",
       "  </tbody>\n",
       "</table>\n",
       "</div>"
      ],
      "text/plain": [
       "      C B                       BENEFICIARIO           RFC  \\\n",
       "0  111017  PRAXAIR MEXICO S. DE R.L. DE C.V.  PME960701GG0   \n",
       "1  111017  PRAXAIR MEXICO S. DE R.L. DE C.V.  PME960701GG0   \n",
       "2  111017  PRAXAIR MEXICO S. DE R.L. DE C.V.  PME960701GG0   \n",
       "3  111017  PRAXAIR MEXICO S. DE R.L. DE C.V.  PME960701GG0   \n",
       "4  111017  PRAXAIR MEXICO S. DE R.L. DE C.V.  PME960701GG0   \n",
       "\n",
       "               FACTURAS      CONTRATO  \\\n",
       "0  FB1350335-183011-629  SFA-057-2022   \n",
       "1  FZ5209887-183011-623  SFA-057-2022   \n",
       "2  FZ5211984-183011-621  SFA-057-2022   \n",
       "3  FZ5211985-183011-622  SFA-057-2022   \n",
       "4  FB1366036-183011-739  SFA-057-2022   \n",
       "\n",
       "                                            CONCEPTO TIPO  FDO - #OP  \\\n",
       "0  SUMINISTRO DE OXIGENO, GASES MEDICINALES Y ACC...   TR  1025821.0   \n",
       "1  SUMINISTRO DE OXIGENO, GASES MEDICINALES Y ACC...   TR  1025821.0   \n",
       "2  SUMINISTRO DE OXIGENO, GASES MEDICINALES Y ACC...   TR  1025821.0   \n",
       "3  SUMINISTRO DE OXIGENO, GASES MEDICINALES Y ACC...   TR  1025821.0   \n",
       "4  SUMINISTRO DE OXIGENO, GASES MEDICINALES Y ACC...   TR  1025926.0   \n",
       "\n",
       "       FECHA    IMPORTE       SHEET  \n",
       "0 2023-04-05    1054.76  GTS VARIOS  \n",
       "1 2023-04-05   16090.79  GTS VARIOS  \n",
       "2 2023-04-05  190872.18  GTS VARIOS  \n",
       "3 2023-04-05  174102.14  GTS VARIOS  \n",
       "4 2023-04-21    1054.76  GTS VARIOS  "
      ]
     },
     "execution_count": 5,
     "metadata": {},
     "output_type": "execute_result"
    }
   ],
   "source": [
    "df_gastos.head()"
   ]
  },
  {
   "cell_type": "code",
   "execution_count": 6,
   "metadata": {},
   "outputs": [
    {
     "data": {
      "text/plain": [
       "1161"
      ]
     },
     "execution_count": 6,
     "metadata": {},
     "output_type": "execute_result"
    }
   ],
   "source": [
    "# verificamos la cantidad de datos que tenemos\n",
    "len(df_gastos)"
   ]
  },
  {
   "cell_type": "code",
   "execution_count": 7,
   "metadata": {},
   "outputs": [],
   "source": [
    "# eliminamos las filas con valores nulos\n",
    "df_gastos = df_gastos.dropna(how='any')"
   ]
  },
  {
   "cell_type": "code",
   "execution_count": 8,
   "metadata": {},
   "outputs": [
    {
     "data": {
      "text/plain": [
       "943"
      ]
     },
     "execution_count": 8,
     "metadata": {},
     "output_type": "execute_result"
    }
   ],
   "source": [
    "len(df_gastos)"
   ]
  },
  {
   "cell_type": "code",
   "execution_count": 9,
   "metadata": {},
   "outputs": [
    {
     "data": {
      "text/plain": [
       "C B                     object\n",
       "BENEFICIARIO            object\n",
       "RFC                     object\n",
       "FACTURAS                object\n",
       "CONTRATO                object\n",
       "CONCEPTO                object\n",
       "TIPO                    object\n",
       "FDO - #OP              float64\n",
       "FECHA           datetime64[ns]\n",
       "IMPORTE                float64\n",
       "SHEET                   object\n",
       "dtype: object"
      ]
     },
     "execution_count": 9,
     "metadata": {},
     "output_type": "execute_result"
    }
   ],
   "source": [
    "df_gastos.dtypes"
   ]
  },
  {
   "cell_type": "code",
   "execution_count": 10,
   "metadata": {},
   "outputs": [
    {
     "data": {
      "text/plain": [
       "4    943\n",
       "Name: FECHA, dtype: int64"
      ]
     },
     "execution_count": 10,
     "metadata": {},
     "output_type": "execute_result"
    }
   ],
   "source": [
    "# Verificamos que todos los datos pertenezcan al mismo mes\n",
    "# en este caso abril de 2023\n",
    "df_gastos[\"FECHA\"].apply(lambda x: x.month).value_counts()"
   ]
  },
  {
   "cell_type": "code",
   "execution_count": 11,
   "metadata": {},
   "outputs": [],
   "source": [
    "# Exportamos el dataframe a un archivo csv\n",
    "df_gastos.to_csv('../Data/gastos_abril_2023.csv', index=None)"
   ]
  }
 ],
 "metadata": {
  "kernelspec": {
   "display_name": "Python 3",
   "language": "python",
   "name": "python3"
  },
  "language_info": {
   "codemirror_mode": {
    "name": "ipython",
    "version": 3
   },
   "file_extension": ".py",
   "mimetype": "text/x-python",
   "name": "python",
   "nbconvert_exporter": "python",
   "pygments_lexer": "ipython3",
   "version": "3.10.10"
  },
  "orig_nbformat": 4
 },
 "nbformat": 4,
 "nbformat_minor": 2
}
